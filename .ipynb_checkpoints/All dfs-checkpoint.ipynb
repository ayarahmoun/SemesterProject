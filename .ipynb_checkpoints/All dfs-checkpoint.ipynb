{
 "cells": [
  {
   "cell_type": "code",
   "execution_count": 5,
   "metadata": {},
   "outputs": [],
   "source": [
    "import pandas as pd\n",
    "import os"
   ]
  },
  {
   "cell_type": "markdown",
   "metadata": {},
   "source": [
    "### Put your path !\n",
    "---"
   ]
  },
  {
   "cell_type": "code",
   "execution_count": 4,
   "metadata": {},
   "outputs": [],
   "source": [
    "path = 'Extractions_folder'"
   ]
  },
  {
   "cell_type": "markdown",
   "metadata": {},
   "source": [
    "---"
   ]
  },
  {
   "cell_type": "code",
   "execution_count": 12,
   "metadata": {},
   "outputs": [
    {
     "name": "stdout",
     "output_type": "stream",
     "text": [
      "Run_October21_10_31_23.csv\n",
      "Run_September_21_23_39_42.csv\n",
      "Run_October21_12_12_47.csv\n",
      ".DS_Store\n",
      "Run_October21_14_45_35.csv\n",
      "Run_September_21_23_17_43.csv\n",
      "Run_September_21_22_50_35.csv\n",
      "Run_October21_12_34_19.csv\n",
      "Run_October21_11_02_01.csv\n",
      "Run_September_21_22_25_54.csv\n",
      "Run_September_21_00_34_14.csv\n",
      "Run_September_21_00_59_06.csv\n",
      "Run_September_21_21_35_32_Version0.csv\n",
      "Run_October21_11_25_13.csv\n",
      "Run_September_21_00_08_07.csv\n",
      "Run_October21_11_51_21.csv\n",
      "Run_October21_16_23_4617_31.csv\n",
      "Run_September_21_20_47_33.csv\n",
      "Run_September_21_19_54_53.csv\n",
      "Run_September_21_\n",
      "Run_September_21_20_58_37.csv\n",
      "Run_September_21_19_54_30.csv\n"
     ]
    }
   ],
   "source": [
    "df_full = []\n",
    "for root,dirs,files in os.walk(path):\n",
    "    for file in files:\n",
    "        print(file)\n",
    "        if file.endswith(\".csv\"):\n",
    "            if len(df_full)==0:\n",
    "                df_full = df\n",
    "            else :\n",
    "                df_full= df_full.append(df)\n"
   ]
  },
  {
   "cell_type": "code",
   "execution_count": null,
   "metadata": {
    "scrolled": true
   },
   "outputs": [],
   "source": []
  },
  {
   "cell_type": "code",
   "execution_count": null,
   "metadata": {},
   "outputs": [],
   "source": []
  }
 ],
 "metadata": {
  "kernelspec": {
   "display_name": "Python 3",
   "language": "python",
   "name": "python3"
  },
  "language_info": {
   "codemirror_mode": {
    "name": "ipython",
    "version": 3
   },
   "file_extension": ".py",
   "mimetype": "text/x-python",
   "name": "python",
   "nbconvert_exporter": "python",
   "pygments_lexer": "ipython3",
   "version": "3.8.3"
  }
 },
 "nbformat": 4,
 "nbformat_minor": 4
}
